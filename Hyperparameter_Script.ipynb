{
  "nbformat": 4,
  "nbformat_minor": 0,
  "metadata": {
    "colab": {
      "name": "Hyperparameter_Script.ipynb",
      "provenance": [],
      "authorship_tag": "ABX9TyNEXfsAlmnK3DsBO0LWlpNs",
      "include_colab_link": true
    },
    "kernelspec": {
      "name": "python3",
      "display_name": "Python 3"
    }
  },
  "cells": [
    {
      "cell_type": "markdown",
      "metadata": {
        "id": "view-in-github",
        "colab_type": "text"
      },
      "source": [
        "<a href=\"https://colab.research.google.com/github/Nusha97/Hyperparameter-Search-Optimization/blob/master/Hyperparameter_Script.ipynb\" target=\"_parent\"><img src=\"https://colab.research.google.com/assets/colab-badge.svg\" alt=\"Open In Colab\"/></a>"
      ]
    },
    {
      "cell_type": "code",
      "metadata": {
        "id": "lfwbhfqJHmVH",
        "colab_type": "code",
        "colab": {}
      },
      "source": [
        "import numpy as np\n",
        "import nrrd\n",
        "import matplotlib.pyplot as plt\n",
        "import time\n",
        "\n",
        "from skimage.morphology import disk, ball, erosion, dilation, opening, closing, remove_small_objects\n",
        "from sklearn.metrics import f1_score, accuracy_score\n",
        "from skimage.morphology import label\n",
        "from skimage.io import imread, imsave\n",
        "from skimage.measure import regionprops\n",
        "\n",
        "# To keep track of the computation time\n",
        "start = time.process_time()\n"
      ],
      "execution_count": 0,
      "outputs": []
    },
    {
      "cell_type": "code",
      "metadata": {
        "id": "okavr65XHmVS",
        "colab_type": "code",
        "colab": {}
      },
      "source": [
        "# Computes the accuracy scores between the actual and the post processed model\n",
        "def error_metric(file1, file2, val):  \n",
        "    ir = file2[val]\n",
        "    ii = file1[val]\n",
        "    acc = f1_score(ir.reshape(-1,1), ii.reshape(-1,1), average='macro')    \n",
        "    return acc"
      ],
      "execution_count": 0,
      "outputs": []
    },
    {
      "cell_type": "code",
      "metadata": {
        "id": "H-yxBy1nHmVX",
        "colab_type": "code",
        "colab": {}
      },
      "source": [
        "def pipeline(orig, gt, eq_d, area, disk_e, disk_d, disk_c, disk_o):\n",
        " \n",
        "  \n",
        "  cells_m = (orig == 2)*2\n",
        "  bv_m = (orig == 1)*1\n",
        "  axons_m = (orig == 3)*3\n",
        "\n",
        "  cell_bv_find = cells_m+bv_m\n",
        "\n",
        "  c_m = remove_small_objects(cell_bv_find, 5, 3)\n",
        "\n",
        "  c_m_l = label(c_m, connectivity=3)\n",
        "\n",
        "  cells_new = np.zeros(c_m_l.shape)\n",
        "\n",
        "  r_m = regionprops(c_m_l)\n",
        "\n",
        "  d_m = [r.equivalent_diameter for r in r_m]\n",
        "  cell_label = [r.coords for r in r_m if r.equivalent_diameter < eq_d]\n",
        "\n",
        "  bv_label = [r.coords for r in r_m if r.area > area]\n",
        "\n",
        "  bv_new = np.zeros(c_m_l.shape)\n",
        "\n",
        "  size = np.shape(cell_label)\n",
        "\n",
        "  x_c = np.zeros(size[0])\n",
        "  y_c = np.zeros(size[0])\n",
        "  z_c = np.zeros(size[0])\n",
        "\n",
        "  size = np.shape(bv_label)\n",
        "\n",
        "  x_b = np.zeros(size[0])\n",
        "  y_b = np.zeros(size[0])\n",
        "  z_b = np.zeros(size[0])\n",
        "\n",
        "  k = 0\n",
        "  for i in bv_label:\n",
        "    for j in i:\n",
        "      x_b, y_b, z_b = j\n",
        "\n",
        "      bv_new[x_b, y_b, z_b] = 1\n",
        "      cell_bv_find[x_b, y_b, z_b] = 0\n",
        "\n",
        "  bv_m_label = label(bv_m, connectivity=3)\n",
        "  bv_m = remove_small_objects(bv_m_label, area, 3)\n",
        "  bv_new = (bv_m > 0)*1\n",
        "\n",
        "  k = 0\n",
        "  for i in cell_label:\n",
        "  \n",
        "    for j in i:\n",
        "      x_c, y_c, z_c = j\n",
        "      cells_new[x_c, y_c, z_c] = 2\n",
        " \n",
        "      if bv_new[x_c, y_c, z_c] == 1:\n",
        "        cells_new[x_c, y_c, z_c] = 0\n",
        "\n",
        "  strel = ball(disk_e)\n",
        "  cells_new = erosion(cells_new, strel)\n",
        "\n",
        "  strel = ball(disk_d)\n",
        "  cells_new = dilation(cells_new, strel)\n",
        "\n",
        "  strel = ball(disk_o)\n",
        "  cells_new = opening(cells_new, strel)\n",
        "\n",
        "  strel = ball(disk_c)\n",
        "  cells_new = closing(cells_new, strel)\n",
        "\n",
        "  model_out = cells_new + bv_new + axons_m\n",
        "\n",
        "  # Change file path names if needed\n",
        "  \n",
        "  #nrrd.write(\"./Outputs/model_test_out.nrrd\", model.astype('uint16'))\n",
        "  #file1 = nrrd.read(\"./Outputs/model_test_out.nrrd\")[0]\n",
        "  #file2 = nrrd.read(\"./GroundTruth/annos_Striatum_3700_3957__500_757__110_471.nrrd\")[0]\n",
        "  output_metric = f1_score(model_out[60].reshape(-1, 1), gt[60].reshape(-1, 1), average='macro')  \n",
        "  return model_out, output_metric"
      ],
      "execution_count": 0,
      "outputs": []
    },
    {
      "cell_type": "code",
      "metadata": {
        "id": "7NVoqozcHmVb",
        "colab_type": "code",
        "colab": {}
      },
      "source": [
        "gt = nrrd.read(\"./Outputs/annos_Striatum_3700_3957__500_757__110_471.nrrd\")[0]\n",
        "#img = nrrd.read('./Outputs/img_Striatum_3700_3957__500_757__110_471.nrrd')[0]\n",
        "orig = nrrd.read('./5Plane-etapoint05-UNet_Striatum_3700_3957__500_757__110_471.nrrd')[0]\n",
        " \n",
        "#[model_out, out_metric] = pipeline(orig, gt, 15, 20, 2, 2, 2, 2)\n",
        "\n",
        "#eq_d, area, disk_e, disk_d, disk_c, disk_o"
      ],
      "execution_count": 0,
      "outputs": []
    },
    {
      "cell_type": "code",
      "metadata": {
        "id": "QF4FvpnKAyyy",
        "colab_type": "code",
        "colab": {}
      },
      "source": [
        "k = 0\n",
        "model_output = np.zeros((25, 361, 257, 257))\n",
        "metric = np.zeros(14)\n",
        "for i in range(8, 22):\n",
        "  [model_output[k], metric[k]] = pipeline(orig, gt, i, 200, 1, 1, 1, 1)\n",
        "  k = k+1 "
      ],
      "execution_count": 0,
      "outputs": []
    },
    {
      "cell_type": "code",
      "metadata": {
        "id": "i_JSBRRPvw6G",
        "colab_type": "code",
        "outputId": "37008c5c-d550-45f4-e58d-e6e6c4931f67",
        "colab": {
          "base_uri": "https://localhost:8080/",
          "height": 450
        }
      },
      "source": [
        "# Plot of the histogram of the F1 Scores \n",
        "\n",
        "plt.hist(metric, 10)"
      ],
      "execution_count": 0,
      "outputs": [
        {
          "output_type": "error",
          "ename": "NameError",
          "evalue": "ignored",
          "traceback": [
            "\u001b[0;31m---------------------------------------------------------------------------\u001b[0m",
            "\u001b[0;31mNameError\u001b[0m                                 Traceback (most recent call last)",
            "\u001b[0;32m<ipython-input-11-39249df54195>\u001b[0m in \u001b[0;36m<module>\u001b[0;34m()\u001b[0m\n\u001b[1;32m      1\u001b[0m \u001b[0mplt\u001b[0m\u001b[0;34m.\u001b[0m\u001b[0mhist\u001b[0m\u001b[0;34m(\u001b[0m\u001b[0mmetric\u001b[0m\u001b[0;34m,\u001b[0m \u001b[0;36m10\u001b[0m\u001b[0;34m)\u001b[0m\u001b[0;34m\u001b[0m\u001b[0;34m\u001b[0m\u001b[0m\n\u001b[0;32m----> 2\u001b[0;31m \u001b[0mxlabel\u001b[0m\u001b[0;34m(\u001b[0m\u001b[0;34m'F1 scores'\u001b[0m\u001b[0;34m)\u001b[0m\u001b[0;34m\u001b[0m\u001b[0;34m\u001b[0m\u001b[0m\n\u001b[0m\u001b[1;32m      3\u001b[0m \u001b[0mylabel\u001b[0m\u001b[0;34m(\u001b[0m\u001b[0;34m'Frequency of Occurence'\u001b[0m\u001b[0;34m)\u001b[0m\u001b[0;34m\u001b[0m\u001b[0;34m\u001b[0m\u001b[0m\n",
            "\u001b[0;31mNameError\u001b[0m: name 'xlabel' is not defined"
          ]
        },
        {
          "output_type": "display_data",
          "data": {
            "image/png": "[encoded data removed]",
            "text/plain": [
              "<Figure size 432x288 with 1 Axes>"
            ]
          },
          "metadata": {
            "tags": []
          }
        }
      ]
    },
    {
      "cell_type": "code",
      "metadata": {
        "id": "9R1opkot0Q5d",
        "colab_type": "code",
        "outputId": "16788d15-c98c-48fd-bcb3-532d97cb5cc2",
        "colab": {
          "base_uri": "https://localhost:8080/",
          "height": 282
        }
      },
      "source": [
        "# Plot of the histogram of the F1 scores for the corresponding value of equivalent diameter\n",
        "\n",
        "x = range(8, 22)\n",
        "plt.plot(metric, x)"
      ],
      "execution_count": 0,
      "outputs": [
        {
          "output_type": "execute_result",
          "data": {
            "text/plain": [
              "[<matplotlib.lines.Line2D at 0x7f8d374b8cf8>]"
            ]
          },
          "metadata": {
            "tags": []
          },
          "execution_count": 15
        },
        {
          "output_type": "display_data",
          "data": {
            "image/png": "[encoded data removed]",
            "text/plain": [
              "<Figure size 432x288 with 1 Axes>"
            ]
          },
          "metadata": {
            "tags": []
          }
        }
      ]
    }
  ]
}